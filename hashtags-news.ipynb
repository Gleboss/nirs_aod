{
 "cells": [
  {
   "cell_type": "markdown",
   "metadata": {},
   "source": [
    "### Пайплан \n",
    "1. Предобработка\n",
    "2. обучение модели, \n",
    "3. создание эмбеддингов с помощью FastText,\n",
    "4. определение оптимального количетва кластеров методом локтя, \n",
    "5. кластеризация, \n",
    "6. выделение топ слов в каждом кластере, \n",
    "7. тестрование точности определения ключевых слов."
   ]
  },
  {
   "cell_type": "code",
   "execution_count": 1,
   "metadata": {
    "ExecuteTime": {
     "end_time": "2021-12-14T08:00:43.164388Z",
     "start_time": "2021-12-14T08:00:43.126120Z"
    }
   },
   "outputs": [],
   "source": [
    "import pandas as pd\n",
    "import numpy as np\n",
    "import pymorphy2\n",
    "import re\n",
    "\n",
    "from sklearn.metrics import pairwise_distances_argmin_min\n",
    "from sklearn.decomposition import PCA\n",
    "from sklearn.pipeline import Pipeline\n",
    "from sklearn.cluster import KMeans\n",
    "from sklearn import preprocessing\n",
    "\n",
    "from nltk.probability import FreqDist\n",
    "\n",
    "from gensim.models import FastText\n",
    "from matplotlib import pyplot\n",
    "from itertools import chain\n",
    "from tqdm import tqdm"
   ]
  },
  {
   "cell_type": "markdown",
   "metadata": {},
   "source": [
    "## загрузка стопслов"
   ]
  },
  {
   "cell_type": "code",
   "execution_count": 2,
   "metadata": {
    "ExecuteTime": {
     "end_time": "2021-12-14T08:00:44.156236Z",
     "start_time": "2021-12-14T08:00:44.125819Z"
    }
   },
   "outputs": [],
   "source": [
    "with open('stopwords-ru.txt', encoding='utf-8') as f:\n",
    "    stopwords = f.read().splitlines()\n",
    "\n",
    "stopwords.append('%')\n",
    "stopwords.append('num')\n",
    "stopwords.append('d_')\n",
    "stopwords.append('x')"
   ]
  },
  {
   "cell_type": "code",
   "execution_count": 3,
   "metadata": {
    "ExecuteTime": {
     "end_time": "2021-12-14T08:00:47.577368Z",
     "start_time": "2021-12-14T08:00:44.963700Z"
    }
   },
   "outputs": [
    {
     "data": {
      "text/html": [
       "<div>\n",
       "<style scoped>\n",
       "    .dataframe tbody tr th:only-of-type {\n",
       "        vertical-align: middle;\n",
       "    }\n",
       "\n",
       "    .dataframe tbody tr th {\n",
       "        vertical-align: top;\n",
       "    }\n",
       "\n",
       "    .dataframe thead th {\n",
       "        text-align: right;\n",
       "    }\n",
       "</style>\n",
       "<table border=\"1\" class=\"dataframe\">\n",
       "  <thead>\n",
       "    <tr style=\"text-align: right;\">\n",
       "      <th></th>\n",
       "      <th>source</th>\n",
       "      <th>title</th>\n",
       "      <th>text</th>\n",
       "      <th>publication_date</th>\n",
       "      <th>rubric</th>\n",
       "      <th>subrubric</th>\n",
       "      <th>tags</th>\n",
       "    </tr>\n",
       "  </thead>\n",
       "  <tbody>\n",
       "    <tr>\n",
       "      <th>0</th>\n",
       "      <td>lenta.ru</td>\n",
       "      <td>Синий богатырь</td>\n",
       "      <td>В 1930-е годы Советский Союз охватила лихорадк...</td>\n",
       "      <td>2020-08-30T00:01:00+03:00</td>\n",
       "      <td>Экономика</td>\n",
       "      <td>Госэкономика</td>\n",
       "      <td>NaN</td>\n",
       "    </tr>\n",
       "    <tr>\n",
       "      <th>1</th>\n",
       "      <td>lenta.ru</td>\n",
       "      <td>Загитова согласилась вести «Ледниковый период»</td>\n",
       "      <td>Олимпийская чемпионка по фигурному катанию  Ал...</td>\n",
       "      <td>2020-08-31T20:04:00+03:00</td>\n",
       "      <td>Спорт</td>\n",
       "      <td>Зимние виды</td>\n",
       "      <td>NaN</td>\n",
       "    </tr>\n",
       "    <tr>\n",
       "      <th>2</th>\n",
       "      <td>lenta.ru</td>\n",
       "      <td>Объяснена опасность однообразного питания</td>\n",
       "      <td>Российский врач-диетолог Римма Мойсенко объясн...</td>\n",
       "      <td>2020-08-31T20:07:00+03:00</td>\n",
       "      <td>Из жизни</td>\n",
       "      <td>Еда</td>\n",
       "      <td>NaN</td>\n",
       "    </tr>\n",
       "    <tr>\n",
       "      <th>3</th>\n",
       "      <td>lenta.ru</td>\n",
       "      <td>«Предохраняться? А зачем?»</td>\n",
       "      <td>В 2019 году телеканал «Ю» запустил адаптацию з...</td>\n",
       "      <td>2020-08-30T00:04:00+03:00</td>\n",
       "      <td>Интернет и СМИ</td>\n",
       "      <td>ТВ и радио</td>\n",
       "      <td>NaN</td>\n",
       "    </tr>\n",
       "    <tr>\n",
       "      <th>4</th>\n",
       "      <td>lenta.ru</td>\n",
       "      <td>Ефремов систематически употреблял наркотики</td>\n",
       "      <td>Актер  Михаил Ефремов  систематически употребл...</td>\n",
       "      <td>2020-08-31T18:27:00+03:00</td>\n",
       "      <td>Культура</td>\n",
       "      <td>Кино</td>\n",
       "      <td>NaN</td>\n",
       "    </tr>\n",
       "  </tbody>\n",
       "</table>\n",
       "</div>"
      ],
      "text/plain": [
       "     source                                           title  \\\n",
       "0  lenta.ru                                  Синий богатырь   \n",
       "1  lenta.ru  Загитова согласилась вести «Ледниковый период»   \n",
       "2  lenta.ru       Объяснена опасность однообразного питания   \n",
       "3  lenta.ru                      «Предохраняться? А зачем?»   \n",
       "4  lenta.ru     Ефремов систематически употреблял наркотики   \n",
       "\n",
       "                                                text  \\\n",
       "0  В 1930-е годы Советский Союз охватила лихорадк...   \n",
       "1  Олимпийская чемпионка по фигурному катанию  Ал...   \n",
       "2  Российский врач-диетолог Римма Мойсенко объясн...   \n",
       "3  В 2019 году телеканал «Ю» запустил адаптацию з...   \n",
       "4  Актер  Михаил Ефремов  систематически употребл...   \n",
       "\n",
       "            publication_date          rubric     subrubric tags  \n",
       "0  2020-08-30T00:01:00+03:00       Экономика  Госэкономика  NaN  \n",
       "1  2020-08-31T20:04:00+03:00           Спорт   Зимние виды  NaN  \n",
       "2  2020-08-31T20:07:00+03:00        Из жизни           Еда  NaN  \n",
       "3  2020-08-30T00:04:00+03:00  Интернет и СМИ    ТВ и радио  NaN  \n",
       "4  2020-08-31T18:27:00+03:00        Культура          Кино  NaN  "
      ]
     },
     "execution_count": 3,
     "metadata": {},
     "output_type": "execute_result"
    }
   ],
   "source": [
    "df = pd.read_csv('news.csv', sep=',', encoding='utf-8')\n",
    "df = df[~df.text.isna()]\n",
    "df.head()"
   ]
  },
  {
   "cell_type": "code",
   "execution_count": 4,
   "metadata": {
    "ExecuteTime": {
     "end_time": "2021-12-14T08:00:52.624228Z",
     "start_time": "2021-12-14T08:00:52.592339Z"
    }
   },
   "outputs": [],
   "source": [
    "def clean_text(text):\n",
    "    text = text.lower()\n",
    "    regular = r'[^a-zа-яё]+'\n",
    "    regular_url = r'(http\\S+)|(www\\S+)|([\\w\\d]+www\\S+)|([\\w\\d]+http\\S+)'\n",
    "    text = re.sub(regular, ' ', text)\n",
    "    text = re.sub(regular_url, r'URL', text)\n",
    "    text = re.sub(r'(\\d+\\s\\d+)|(\\d+)',' num ', text)\n",
    "    text = re.sub(r'\\s+', ' ', text)\n",
    "    return text\n",
    "\n",
    "def delete_stopwords(string):\n",
    "    tokens = string.split()\n",
    "    tokens_res = []\n",
    "    for i in tokens:\n",
    "        if i not in stopwords:\n",
    "            tokens_res.append(i)\n",
    "    return ' '.join(tokens_res)\n",
    "\n",
    "def check_list(list_):\n",
    "    if list_:\n",
    "        return True\n",
    "    else: return False"
   ]
  },
  {
   "cell_type": "markdown",
   "metadata": {
    "collapsed": true
   },
   "source": [
    "## предобработка"
   ]
  },
  {
   "cell_type": "code",
   "execution_count": 5,
   "metadata": {
    "ExecuteTime": {
     "end_time": "2021-12-14T08:02:07.942167Z",
     "start_time": "2021-12-14T08:00:56.587670Z"
    }
   },
   "outputs": [],
   "source": [
    "df['text'] = df['text'].apply(lambda x: delete_stopwords(clean_text(x)))"
   ]
  },
  {
   "cell_type": "code",
   "execution_count": 6,
   "metadata": {
    "ExecuteTime": {
     "end_time": "2021-12-14T08:02:20.651661Z",
     "start_time": "2021-12-14T08:02:19.695480Z"
    }
   },
   "outputs": [],
   "source": [
    "morph = pymorphy2.MorphAnalyzer()\n",
    "\n",
    "sentences = df['text'].to_list()"
   ]
  },
  {
   "cell_type": "code",
   "execution_count": 7,
   "metadata": {
    "ExecuteTime": {
     "end_time": "2021-12-14T08:17:54.735673Z",
     "start_time": "2021-12-14T08:02:21.462000Z"
    }
   },
   "outputs": [
    {
     "name": "stdout",
     "output_type": "stream",
     "text": [
      "Wall time: 11min 44s\n"
     ]
    }
   ],
   "source": [
    "%%time\n",
    "sentences_tok = []\n",
    "\n",
    "for sent in sentences:\n",
    "    tokens_sent = sent.lower().split()\n",
    "#     tokens_sent = [short_dict.get(x,x) for x in tokens_sent]\n",
    "    tokens_sent = delete_stopwords(clean_text(' '.join(tokens_sent))).split()\n",
    "    tokens_sent = [word for word in tokens_sent if len(word) > 3]\n",
    "    tokens = list([morph.parse(_)[0].normal_form for _ in tokens_sent])\n",
    "    sentences_tok.append(tokens)\n",
    "    \n",
    "df['text_tok'] = sentences_tok\n",
    "df = df[df.apply(lambda x: check_list(x['text_tok']), axis=1)]"
   ]
  },
  {
   "cell_type": "code",
   "execution_count": 8,
   "metadata": {
    "ExecuteTime": {
     "end_time": "2021-12-14T08:17:54.809086Z",
     "start_time": "2021-12-14T08:17:54.743132Z"
    }
   },
   "outputs": [
    {
     "data": {
      "text/html": [
       "<div>\n",
       "<style scoped>\n",
       "    .dataframe tbody tr th:only-of-type {\n",
       "        vertical-align: middle;\n",
       "    }\n",
       "\n",
       "    .dataframe tbody tr th {\n",
       "        vertical-align: top;\n",
       "    }\n",
       "\n",
       "    .dataframe thead th {\n",
       "        text-align: right;\n",
       "    }\n",
       "</style>\n",
       "<table border=\"1\" class=\"dataframe\">\n",
       "  <thead>\n",
       "    <tr style=\"text-align: right;\">\n",
       "      <th></th>\n",
       "      <th>source</th>\n",
       "      <th>title</th>\n",
       "      <th>text</th>\n",
       "      <th>publication_date</th>\n",
       "      <th>rubric</th>\n",
       "      <th>subrubric</th>\n",
       "      <th>tags</th>\n",
       "      <th>text_tok</th>\n",
       "    </tr>\n",
       "  </thead>\n",
       "  <tbody>\n",
       "    <tr>\n",
       "      <th>0</th>\n",
       "      <td>lenta.ru</td>\n",
       "      <td>Синий богатырь</td>\n",
       "      <td>годы советский союз охватила лихорадка десятил...</td>\n",
       "      <td>2020-08-30T00:01:00+03:00</td>\n",
       "      <td>Экономика</td>\n",
       "      <td>Госэкономика</td>\n",
       "      <td>NaN</td>\n",
       "      <td>[год, советский, союз, охватить, лихорадка, де...</td>\n",
       "    </tr>\n",
       "    <tr>\n",
       "      <th>1</th>\n",
       "      <td>lenta.ru</td>\n",
       "      <td>Загитова согласилась вести «Ледниковый период»</td>\n",
       "      <td>олимпийская чемпионка фигурному катанию алина ...</td>\n",
       "      <td>2020-08-31T20:04:00+03:00</td>\n",
       "      <td>Спорт</td>\n",
       "      <td>Зимние виды</td>\n",
       "      <td>NaN</td>\n",
       "      <td>[олимпийский, чемпионка, фигурный, катание, ал...</td>\n",
       "    </tr>\n",
       "    <tr>\n",
       "      <th>2</th>\n",
       "      <td>lenta.ru</td>\n",
       "      <td>Объяснена опасность однообразного питания</td>\n",
       "      <td>российский врач диетолог римма мойсенко объясн...</td>\n",
       "      <td>2020-08-31T20:07:00+03:00</td>\n",
       "      <td>Из жизни</td>\n",
       "      <td>Еда</td>\n",
       "      <td>NaN</td>\n",
       "      <td>[российский, врач, диетолог, римма, мойсенко, ...</td>\n",
       "    </tr>\n",
       "    <tr>\n",
       "      <th>3</th>\n",
       "      <td>lenta.ru</td>\n",
       "      <td>«Предохраняться? А зачем?»</td>\n",
       "      <td>телеканал ю запустил адаптацию знаменитого тел...</td>\n",
       "      <td>2020-08-30T00:04:00+03:00</td>\n",
       "      <td>Интернет и СМИ</td>\n",
       "      <td>ТВ и радио</td>\n",
       "      <td>NaN</td>\n",
       "      <td>[телеканал, запустить, адаптация, знаменитый, ...</td>\n",
       "    </tr>\n",
       "    <tr>\n",
       "      <th>4</th>\n",
       "      <td>lenta.ru</td>\n",
       "      <td>Ефремов систематически употреблял наркотики</td>\n",
       "      <td>актер михаил ефремов систематически употреблял...</td>\n",
       "      <td>2020-08-31T18:27:00+03:00</td>\n",
       "      <td>Культура</td>\n",
       "      <td>Кино</td>\n",
       "      <td>NaN</td>\n",
       "      <td>[актёр, михаил, ефрем, систематически, употреб...</td>\n",
       "    </tr>\n",
       "  </tbody>\n",
       "</table>\n",
       "</div>"
      ],
      "text/plain": [
       "     source                                           title  \\\n",
       "0  lenta.ru                                  Синий богатырь   \n",
       "1  lenta.ru  Загитова согласилась вести «Ледниковый период»   \n",
       "2  lenta.ru       Объяснена опасность однообразного питания   \n",
       "3  lenta.ru                      «Предохраняться? А зачем?»   \n",
       "4  lenta.ru     Ефремов систематически употреблял наркотики   \n",
       "\n",
       "                                                text  \\\n",
       "0  годы советский союз охватила лихорадка десятил...   \n",
       "1  олимпийская чемпионка фигурному катанию алина ...   \n",
       "2  российский врач диетолог римма мойсенко объясн...   \n",
       "3  телеканал ю запустил адаптацию знаменитого тел...   \n",
       "4  актер михаил ефремов систематически употреблял...   \n",
       "\n",
       "            publication_date          rubric     subrubric tags  \\\n",
       "0  2020-08-30T00:01:00+03:00       Экономика  Госэкономика  NaN   \n",
       "1  2020-08-31T20:04:00+03:00           Спорт   Зимние виды  NaN   \n",
       "2  2020-08-31T20:07:00+03:00        Из жизни           Еда  NaN   \n",
       "3  2020-08-30T00:04:00+03:00  Интернет и СМИ    ТВ и радио  NaN   \n",
       "4  2020-08-31T18:27:00+03:00        Культура          Кино  NaN   \n",
       "\n",
       "                                            text_tok  \n",
       "0  [год, советский, союз, охватить, лихорадка, де...  \n",
       "1  [олимпийский, чемпионка, фигурный, катание, ал...  \n",
       "2  [российский, врач, диетолог, римма, мойсенко, ...  \n",
       "3  [телеканал, запустить, адаптация, знаменитый, ...  \n",
       "4  [актёр, михаил, ефрем, систематически, употреб...  "
      ]
     },
     "execution_count": 8,
     "metadata": {},
     "output_type": "execute_result"
    }
   ],
   "source": [
    "df.head()"
   ]
  },
  {
   "cell_type": "code",
   "execution_count": 9,
   "metadata": {
    "ExecuteTime": {
     "end_time": "2021-12-14T08:17:54.833406Z",
     "start_time": "2021-12-14T08:17:54.815480Z"
    }
   },
   "outputs": [],
   "source": [
    "def check_len(tokens):\n",
    "    tokens_cleaned = []\n",
    "    for i in tokens:\n",
    "        if len(i) >= 3:\n",
    "            tokens_cleaned.append(i)\n",
    "    return tokens_cleaned"
   ]
  },
  {
   "cell_type": "code",
   "execution_count": 10,
   "metadata": {
    "ExecuteTime": {
     "end_time": "2021-12-14T08:17:55.984947Z",
     "start_time": "2021-12-14T08:17:54.839697Z"
    }
   },
   "outputs": [],
   "source": [
    "df.text_tok = df.text_tok.apply(lambda x: check_len(x))\n",
    "df = df.drop_duplicates(subset='text')"
   ]
  },
  {
   "cell_type": "markdown",
   "metadata": {
    "collapsed": true
   },
   "source": [
    "## обучение FastText"
   ]
  },
  {
   "cell_type": "code",
   "execution_count": 11,
   "metadata": {
    "ExecuteTime": {
     "end_time": "2021-12-14T08:17:56.790543Z",
     "start_time": "2021-12-14T08:17:56.752218Z"
    }
   },
   "outputs": [],
   "source": [
    "df = df[df.text_tok.apply(lambda x: (len(x) > 2))]"
   ]
  },
  {
   "cell_type": "code",
   "execution_count": 12,
   "metadata": {
    "ExecuteTime": {
     "end_time": "2021-12-14T08:25:19.818277Z",
     "start_time": "2021-12-14T08:25:19.776636Z"
    }
   },
   "outputs": [
    {
     "data": {
      "text/plain": [
       "(5000, 8)"
      ]
     },
     "execution_count": 12,
     "metadata": {},
     "output_type": "execute_result"
    }
   ],
   "source": [
    "df_orign = df.copy()\n",
    "\n",
    "df = df.head(5000)\n",
    "df.shape"
   ]
  },
  {
   "cell_type": "code",
   "execution_count": 13,
   "metadata": {
    "ExecuteTime": {
     "end_time": "2021-12-14T08:32:27.187664Z",
     "start_time": "2021-12-14T08:29:25.208139Z"
    }
   },
   "outputs": [
    {
     "data": {
      "text/plain": [
       "(6075228, 6301690)"
      ]
     },
     "execution_count": 13,
     "metadata": {},
     "output_type": "execute_result"
    }
   ],
   "source": [
    "model = FastText(vector_size=300, window=5, min_count=2)\n",
    "model.build_vocab(corpus_iterable=df.text_tok.to_list())\n",
    "model.train(corpus_iterable=df.text_tok.to_list(), total_examples=len(df.text_tok.to_list()), epochs=10)"
   ]
  },
  {
   "cell_type": "code",
   "execution_count": 14,
   "metadata": {
    "ExecuteTime": {
     "end_time": "2021-12-14T08:32:35.451803Z",
     "start_time": "2021-12-14T08:32:35.258999Z"
    }
   },
   "outputs": [
    {
     "data": {
      "text/plain": [
       "[('продукт', 0.9649566411972046),\n",
       " ('продажа', 0.9047145247459412),\n",
       " ('продавец', 0.8981866240501404),\n",
       " ('пробежка', 0.8883215188980103),\n",
       " ('прокачка', 0.8853464722633362),\n",
       " ('продавщица', 0.882567822933197),\n",
       " ('приморнефтепродукт', 0.8743192553520203),\n",
       " ('просрочка', 0.8706531524658203),\n",
       " ('продуктовый', 0.8704662919044495),\n",
       " ('произвол', 0.8660559058189392)]"
      ]
     },
     "execution_count": 14,
     "metadata": {},
     "output_type": "execute_result"
    }
   ],
   "source": [
    "model.wv.most_similar('продук')"
   ]
  },
  {
   "cell_type": "code",
   "execution_count": 15,
   "metadata": {
    "ExecuteTime": {
     "end_time": "2021-12-14T08:32:55.598079Z",
     "start_time": "2021-12-14T08:32:44.251450Z"
    }
   },
   "outputs": [],
   "source": [
    "model.save('news.model')"
   ]
  },
  {
   "cell_type": "markdown",
   "metadata": {},
   "source": [
    "## загрузка обученной модели"
   ]
  },
  {
   "cell_type": "code",
   "execution_count": 16,
   "metadata": {
    "ExecuteTime": {
     "end_time": "2021-12-14T08:33:16.669925Z",
     "start_time": "2021-12-14T08:32:55.611790Z"
    }
   },
   "outputs": [],
   "source": [
    "model = FastText.load('news.model')"
   ]
  },
  {
   "cell_type": "code",
   "execution_count": 17,
   "metadata": {
    "ExecuteTime": {
     "end_time": "2021-12-14T08:33:16.719478Z",
     "start_time": "2021-12-14T08:33:16.678822Z"
    }
   },
   "outputs": [],
   "source": [
    "def word_embadding_fasttext(word):\n",
    "    res = model.wv.get_vector(word)\n",
    "    if res is None: return np.zeros(300)\n",
    "    else: return res\n",
    "\n",
    "def sentence_embadding_fasttext(sent):\n",
    "    embedding = [word_embadding_fasttext(x) for x in sent]   \n",
    "    embedding = np.mean(embedding, axis=0)\n",
    "    return embedding"
   ]
  },
  {
   "cell_type": "code",
   "execution_count": 18,
   "metadata": {
    "ExecuteTime": {
     "end_time": "2021-12-14T08:33:25.308552Z",
     "start_time": "2021-12-14T08:33:18.839313Z"
    }
   },
   "outputs": [],
   "source": [
    "sent_emb = [sentence_embadding_fasttext(sent) for sent in df.text_tok]"
   ]
  },
  {
   "cell_type": "markdown",
   "metadata": {},
   "source": [
    "### определение оптимального количества кластеров"
   ]
  },
  {
   "cell_type": "code",
   "execution_count": 19,
   "metadata": {
    "ExecuteTime": {
     "end_time": "2021-12-14T08:35:06.350445Z",
     "start_time": "2021-12-14T08:33:54.834772Z"
    }
   },
   "outputs": [
    {
     "name": "stderr",
     "output_type": "stream",
     "text": [
      "100%|██████████| 10/10 [00:58<00:00,  5.84s/it]\n"
     ]
    },
    {
     "data": {
      "image/png": "[encoded data removed]",
      "text/plain": [
       "<Figure size 1152x576 with 1 Axes>"
      ]
     },
     "metadata": {
      "needs_background": "light"
     },
     "output_type": "display_data"
    }
   ],
   "source": [
    "K_n = range(1, 100, 10)\n",
    "\n",
    "distortions = []\n",
    "\n",
    "for k in tqdm(K_n):\n",
    "    kmeans = KMeans(n_clusters=k).fit(sent_emb)\n",
    "    distortions.append(kmeans.inertia_)\n",
    "\n",
    "pyplot.figure(figsize=(16,8))\n",
    "pyplot.plot(K_n, distortions, 'bx-')\n",
    "pyplot.xlabel('k')\n",
    "pyplot.ylabel('distortion')\n",
    "pyplot.show()"
   ]
  },
  {
   "cell_type": "markdown",
   "metadata": {},
   "source": [
    "### кластеризация"
   ]
  },
  {
   "cell_type": "code",
   "execution_count": 20,
   "metadata": {
    "ExecuteTime": {
     "end_time": "2021-12-14T08:37:15.169806Z",
     "start_time": "2021-12-14T08:37:11.790803Z"
    }
   },
   "outputs": [],
   "source": [
    "kmeans = KMeans(n_clusters=15).fit(sent_emb)"
   ]
  },
  {
   "cell_type": "code",
   "execution_count": 21,
   "metadata": {
    "ExecuteTime": {
     "end_time": "2021-12-14T08:37:15.371223Z",
     "start_time": "2021-12-14T08:37:15.174167Z"
    }
   },
   "outputs": [],
   "source": [
    "pca = PCA(n_components=2)\n",
    "result = pca.fit_transform(sent_emb)\n",
    "\n",
    "x = [x[0] for x in result] \n",
    "y = [y[1] for y in result] \n",
    "\n",
    "df['x'] = x\n",
    "df['y'] = y"
   ]
  },
  {
   "cell_type": "code",
   "execution_count": 22,
   "metadata": {
    "ExecuteTime": {
     "end_time": "2021-12-14T08:37:16.134806Z",
     "start_time": "2021-12-14T08:37:15.379765Z"
    }
   },
   "outputs": [
    {
     "data": {
      "image/png": "[encoded data removed]",
      "text/plain": [
       "<Figure size 432x288 with 1 Axes>"
      ]
     },
     "metadata": {
      "needs_background": "light"
     },
     "output_type": "display_data"
    }
   ],
   "source": [
    "pyplot.scatter(df['x'], df['y'], c=kmeans.labels_.astype(float), s=50, alpha=0.5)\n",
    "pyplot.show()"
   ]
  },
  {
   "cell_type": "code",
   "execution_count": 23,
   "metadata": {
    "ExecuteTime": {
     "end_time": "2021-12-14T08:37:17.882405Z",
     "start_time": "2021-12-14T08:37:17.865485Z"
    }
   },
   "outputs": [],
   "source": [
    "df['label'] = kmeans.labels_"
   ]
  },
  {
   "cell_type": "code",
   "execution_count": 24,
   "metadata": {
    "ExecuteTime": {
     "end_time": "2021-12-14T08:37:32.075607Z",
     "start_time": "2021-12-14T08:37:31.891896Z"
    }
   },
   "outputs": [
    {
     "data": {
      "text/plain": [
       "коронавирус    886\n",
       "россия         508\n",
       "страна         454\n",
       "человек        379\n",
       "москва         327\n",
       "dtype: int64"
      ]
     },
     "execution_count": 24,
     "metadata": {},
     "output_type": "execute_result"
    }
   ],
   "source": [
    "pd.DataFrame(list(chain.from_iterable(df[df.label == 7].text_tok.to_list()))).value_counts().head()"
   ]
  },
  {
   "cell_type": "markdown",
   "metadata": {
    "collapsed": true
   },
   "source": [
    "# test"
   ]
  },
  {
   "cell_type": "code",
   "execution_count": 25,
   "metadata": {
    "ExecuteTime": {
     "end_time": "2021-12-14T08:42:54.072088Z",
     "start_time": "2021-12-14T08:42:54.060770Z"
    }
   },
   "outputs": [],
   "source": [
    "test_orign = 'военные на границе с россией выставили вооружения'"
   ]
  },
  {
   "cell_type": "code",
   "execution_count": 26,
   "metadata": {
    "ExecuteTime": {
     "end_time": "2021-12-14T08:42:54.310112Z",
     "start_time": "2021-12-14T08:42:54.283463Z"
    }
   },
   "outputs": [
    {
     "data": {
      "text/plain": [
       "'военные границе россией выставили вооружения'"
      ]
     },
     "execution_count": 26,
     "metadata": {},
     "output_type": "execute_result"
    }
   ],
   "source": [
    "# предобработка текста\n",
    "\n",
    "test = delete_stopwords(clean_text(test_orign))\n",
    "test"
   ]
  },
  {
   "cell_type": "code",
   "execution_count": 27,
   "metadata": {
    "ExecuteTime": {
     "end_time": "2021-12-14T08:42:54.523584Z",
     "start_time": "2021-12-14T08:42:54.505894Z"
    }
   },
   "outputs": [
    {
     "data": {
      "text/plain": [
       "array([ 0.00619834,  0.08600322, -0.2625694 ,  0.10302448], dtype=float32)"
      ]
     },
     "execution_count": 27,
     "metadata": {},
     "output_type": "execute_result"
    }
   ],
   "source": [
    "# получение эмбединга текста\n",
    "\n",
    "test_emb = sentence_embadding_fasttext([test])\n",
    "test_emb[:4]"
   ]
  },
  {
   "cell_type": "code",
   "execution_count": 28,
   "metadata": {
    "ExecuteTime": {
     "end_time": "2021-12-14T08:42:54.759841Z",
     "start_time": "2021-12-14T08:42:54.734650Z"
    }
   },
   "outputs": [
    {
     "data": {
      "text/plain": [
       "11"
      ]
     },
     "execution_count": 28,
     "metadata": {},
     "output_type": "execute_result"
    }
   ],
   "source": [
    "# определение кластера\n",
    "\n",
    "claster = kmeans.predict([test_emb])[0]\n",
    "claster"
   ]
  },
  {
   "cell_type": "code",
   "execution_count": 29,
   "metadata": {
    "ExecuteTime": {
     "end_time": "2021-12-14T08:42:55.155616Z",
     "start_time": "2021-12-14T08:42:54.985136Z"
    }
   },
   "outputs": [
    {
     "data": {
      "text/plain": [
       "['военный', 'россия', 'страна', 'российский', 'заявить']"
      ]
     },
     "execution_count": 29,
     "metadata": {},
     "output_type": "execute_result"
    }
   ],
   "source": [
    "# вывод топ 5 наиболее частых слов в кластере\n",
    "\n",
    "fdist = FreqDist(list(chain.from_iterable(df[df.label == claster].text_tok.to_list())))\n",
    "words_uniq_claster = [i[0] for i in fdist.most_common(5)]\n",
    "words_uniq_claster"
   ]
  },
  {
   "cell_type": "code",
   "execution_count": null,
   "metadata": {},
   "outputs": [],
   "source": []
  },
  {
   "cell_type": "code",
   "execution_count": null,
   "metadata": {},
   "outputs": [],
   "source": []
  }
 ],
 "metadata": {
  "kernelspec": {
   "display_name": "Python 3",
   "language": "python",
   "name": "python3"
  },
  "language_info": {
   "codemirror_mode": {
    "name": "ipython",
    "version": 3
   },
   "file_extension": ".py",
   "mimetype": "text/x-python",
   "name": "python",
   "nbconvert_exporter": "python",
   "pygments_lexer": "ipython3",
   "version": "3.7.4"
  },
  "widgets": {
   "application/vnd.jupyter.widget-state+json": {
    "state": {},
    "version_major": 2,
    "version_minor": 0
   }
  }
 },
 "nbformat": 4,
 "nbformat_minor": 2
}
